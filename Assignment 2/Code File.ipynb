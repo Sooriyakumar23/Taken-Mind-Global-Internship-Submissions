{
 "cells": [
  {
   "cell_type": "code",
   "execution_count": 4,
   "id": "0888d1e7",
   "metadata": {},
   "outputs": [
    {
     "name": "stdout",
     "output_type": "stream",
     "text": [
      " Volume in drive C has no label.\n",
      " Volume Serial Number is 6CFF-A6E8\n",
      "\n",
      " Directory of C:\\Users\\Soori\\Desktop\\TN-Assignments\\TakenMindIntern\\Assignment 2\n",
      "\n",
      "03/08/2022  07:44 PM    <DIR>          .\n",
      "03/08/2022  07:44 PM    <DIR>          ..\n",
      "03/08/2022  06:54 PM    <DIR>          .ipynb_checkpoints\n",
      "03/08/2022  06:56 PM             1,598 Code File.ipynb\n",
      "03/08/2022  07:44 PM            19,895 Input File.xlsx\n",
      "               2 File(s)         21,493 bytes\n",
      "               3 Dir(s)   8,539,205,632 bytes free\n"
     ]
    }
   ],
   "source": [
    "!dir"
   ]
  },
  {
   "cell_type": "code",
   "execution_count": 6,
   "id": "874abe6b",
   "metadata": {},
   "outputs": [],
   "source": [
    "# Importing pandas library\n",
    "\n",
    "import pandas as pd"
   ]
  },
  {
   "cell_type": "code",
   "execution_count": 7,
   "id": "8ec20c57",
   "metadata": {},
   "outputs": [],
   "source": [
    "# Read the excel file\n",
    "\n",
    "excelFile = pd.ExcelFile('Input File.xlsx')"
   ]
  },
  {
   "cell_type": "code",
   "execution_count": 9,
   "id": "50632d02",
   "metadata": {},
   "outputs": [
    {
     "data": {
      "text/plain": [
       "<pandas.io.excel._base.ExcelFile at 0x2ca5a076e80>"
      ]
     },
     "execution_count": 9,
     "metadata": {},
     "output_type": "execute_result"
    }
   ],
   "source": [
    "excelFile"
   ]
  },
  {
   "cell_type": "code",
   "execution_count": 12,
   "id": "3e92cda7",
   "metadata": {},
   "outputs": [
    {
     "name": "stdout",
     "output_type": "stream",
     "text": [
      "1\n",
      "2\n",
      "3\n",
      "4\n",
      "5\n",
      "6\n",
      "7\n",
      "8\n",
      "9\n",
      "10\n"
     ]
    }
   ],
   "source": [
    "for i in range(1,11):\n",
    "    excelFile.parse(f\"Sheet{i}\").to_csv(f\"CSV Sheet {i}.csv\")\n",
    "    print (i)"
   ]
  }
 ],
 "metadata": {
  "kernelspec": {
   "display_name": "Python 3 (ipykernel)",
   "language": "python",
   "name": "python3"
  },
  "language_info": {
   "codemirror_mode": {
    "name": "ipython",
    "version": 3
   },
   "file_extension": ".py",
   "mimetype": "text/x-python",
   "name": "python",
   "nbconvert_exporter": "python",
   "pygments_lexer": "ipython3",
   "version": "3.9.7"
  }
 },
 "nbformat": 4,
 "nbformat_minor": 5
}
