{
 "cells": [
  {
   "cell_type": "code",
   "execution_count": 31,
   "id": "797e357a",
   "metadata": {},
   "outputs": [],
   "source": [
    "#Importing pandas library\n",
    "import pandas as pd"
   ]
  },
  {
   "cell_type": "code",
   "execution_count": 32,
   "id": "5b0b7033",
   "metadata": {},
   "outputs": [
    {
     "name": "stdout",
     "output_type": "stream",
     "text": [
      " Volume in drive C has no label.\n",
      " Volume Serial Number is 6CFF-A6E8\n",
      "\n",
      " Directory of C:\\Users\\Soori\\Desktop\\TN-Assignments\\TakenMindIntern\\Code Practices\n",
      "\n",
      "03/08/2022  06:08 PM    <DIR>          .\n",
      "03/08/2022  06:08 PM    <DIR>          ..\n",
      "03/08/2022  05:07 PM    <DIR>          .ipynb_checkpoints\n",
      "03/08/2022  05:40 PM               264 File Operations Output.csv\n",
      "03/08/2022  05:40 PM               264 File Operations Output.txt\n",
      "03/08/2022  05:24 PM               242 File Operations.csv\n",
      "03/08/2022  06:00 PM            14,684 File Operations.ipynb\n",
      "03/08/2022  06:08 PM             9,597 File Operations.xlsx\n",
      "               5 File(s)         25,051 bytes\n",
      "               3 Dir(s)   8,536,494,080 bytes free\n"
     ]
    }
   ],
   "source": [
    "!dir"
   ]
  },
  {
   "cell_type": "markdown",
   "id": "1c27c1db",
   "metadata": {},
   "source": [
    "  "
   ]
  },
  {
   "cell_type": "markdown",
   "id": "6f6600ef",
   "metadata": {},
   "source": [
    "    "
   ]
  },
  {
   "cell_type": "markdown",
   "id": "4648a146",
   "metadata": {},
   "source": [
    "   "
   ]
  },
  {
   "cell_type": "markdown",
   "id": "a0520c77",
   "metadata": {},
   "source": [
    "### 1. Handling CSV files "
   ]
  },
  {
   "cell_type": "code",
   "execution_count": 14,
   "id": "96ca8e25",
   "metadata": {},
   "outputs": [],
   "source": [
    "csvFile1 = pd.read_csv(\"File Operations.csv\")"
   ]
  },
  {
   "cell_type": "code",
   "execution_count": 15,
   "id": "71edebf7",
   "metadata": {},
   "outputs": [
    {
     "data": {
      "text/html": [
       "<div>\n",
       "<style scoped>\n",
       "    .dataframe tbody tr th:only-of-type {\n",
       "        vertical-align: middle;\n",
       "    }\n",
       "\n",
       "    .dataframe tbody tr th {\n",
       "        vertical-align: top;\n",
       "    }\n",
       "\n",
       "    .dataframe thead th {\n",
       "        text-align: right;\n",
       "    }\n",
       "</style>\n",
       "<table border=\"1\" class=\"dataframe\">\n",
       "  <thead>\n",
       "    <tr style=\"text-align: right;\">\n",
       "      <th></th>\n",
       "      <th>ID</th>\n",
       "      <th>Name</th>\n",
       "      <th>Company</th>\n",
       "      <th>Position</th>\n",
       "      <th>Salary</th>\n",
       "      <th>Experience</th>\n",
       "      <th>Awards</th>\n",
       "    </tr>\n",
       "  </thead>\n",
       "  <tbody>\n",
       "    <tr>\n",
       "      <th>0</th>\n",
       "      <td>0.1</td>\n",
       "      <td>Sooriyakumar</td>\n",
       "      <td>NaN</td>\n",
       "      <td>Student</td>\n",
       "      <td>0</td>\n",
       "      <td>0</td>\n",
       "      <td>0</td>\n",
       "    </tr>\n",
       "    <tr>\n",
       "      <th>1</th>\n",
       "      <td>1.2</td>\n",
       "      <td>Thamil</td>\n",
       "      <td>Hospital</td>\n",
       "      <td>Doctor</td>\n",
       "      <td>500000</td>\n",
       "      <td>5</td>\n",
       "      <td>10</td>\n",
       "    </tr>\n",
       "    <tr>\n",
       "      <th>2</th>\n",
       "      <td>5.5</td>\n",
       "      <td>Amanda</td>\n",
       "      <td>TakenMind</td>\n",
       "      <td>HR</td>\n",
       "      <td>200000</td>\n",
       "      <td>3</td>\n",
       "      <td>5</td>\n",
       "    </tr>\n",
       "    <tr>\n",
       "      <th>3</th>\n",
       "      <td>6.2</td>\n",
       "      <td>Shelly</td>\n",
       "      <td>Heroku</td>\n",
       "      <td>DS</td>\n",
       "      <td>10000</td>\n",
       "      <td>10</td>\n",
       "      <td>1</td>\n",
       "    </tr>\n",
       "    <tr>\n",
       "      <th>4</th>\n",
       "      <td>8.5</td>\n",
       "      <td>Thaya</td>\n",
       "      <td>School</td>\n",
       "      <td>Teacher</td>\n",
       "      <td>100000</td>\n",
       "      <td>5</td>\n",
       "      <td>2</td>\n",
       "    </tr>\n",
       "  </tbody>\n",
       "</table>\n",
       "</div>"
      ],
      "text/plain": [
       "    ID          Name    Company  Position   Salary   Experience   Awards\n",
       "0  0.1  Sooriyakumar        NaN   Student        0            0        0\n",
       "1  1.2        Thamil   Hospital    Doctor   500000            5       10\n",
       "2  5.5        Amanda  TakenMind        HR   200000            3        5\n",
       "3  6.2        Shelly     Heroku        DS    10000           10        1\n",
       "4  8.5         Thaya     School   Teacher   100000            5        2"
      ]
     },
     "execution_count": 15,
     "metadata": {},
     "output_type": "execute_result"
    }
   ],
   "source": [
    "csvFile1"
   ]
  },
  {
   "cell_type": "code",
   "execution_count": 16,
   "id": "92582905",
   "metadata": {},
   "outputs": [],
   "source": [
    "csvFile2 = pd.read_table(\"File Operations.csv\", delimiter=',')"
   ]
  },
  {
   "cell_type": "code",
   "execution_count": 18,
   "id": "1da7ed61",
   "metadata": {},
   "outputs": [
    {
     "data": {
      "text/html": [
       "<div>\n",
       "<style scoped>\n",
       "    .dataframe tbody tr th:only-of-type {\n",
       "        vertical-align: middle;\n",
       "    }\n",
       "\n",
       "    .dataframe tbody tr th {\n",
       "        vertical-align: top;\n",
       "    }\n",
       "\n",
       "    .dataframe thead th {\n",
       "        text-align: right;\n",
       "    }\n",
       "</style>\n",
       "<table border=\"1\" class=\"dataframe\">\n",
       "  <thead>\n",
       "    <tr style=\"text-align: right;\">\n",
       "      <th></th>\n",
       "      <th>ID</th>\n",
       "      <th>Name</th>\n",
       "      <th>Company</th>\n",
       "      <th>Position</th>\n",
       "      <th>Salary</th>\n",
       "      <th>Experience</th>\n",
       "      <th>Awards</th>\n",
       "    </tr>\n",
       "  </thead>\n",
       "  <tbody>\n",
       "    <tr>\n",
       "      <th>0</th>\n",
       "      <td>0.1</td>\n",
       "      <td>Sooriyakumar</td>\n",
       "      <td>NaN</td>\n",
       "      <td>Student</td>\n",
       "      <td>0</td>\n",
       "      <td>0</td>\n",
       "      <td>0</td>\n",
       "    </tr>\n",
       "    <tr>\n",
       "      <th>1</th>\n",
       "      <td>1.2</td>\n",
       "      <td>Thamil</td>\n",
       "      <td>Hospital</td>\n",
       "      <td>Doctor</td>\n",
       "      <td>500000</td>\n",
       "      <td>5</td>\n",
       "      <td>10</td>\n",
       "    </tr>\n",
       "    <tr>\n",
       "      <th>2</th>\n",
       "      <td>5.5</td>\n",
       "      <td>Amanda</td>\n",
       "      <td>TakenMind</td>\n",
       "      <td>HR</td>\n",
       "      <td>200000</td>\n",
       "      <td>3</td>\n",
       "      <td>5</td>\n",
       "    </tr>\n",
       "    <tr>\n",
       "      <th>3</th>\n",
       "      <td>6.2</td>\n",
       "      <td>Shelly</td>\n",
       "      <td>Heroku</td>\n",
       "      <td>DS</td>\n",
       "      <td>10000</td>\n",
       "      <td>10</td>\n",
       "      <td>1</td>\n",
       "    </tr>\n",
       "    <tr>\n",
       "      <th>4</th>\n",
       "      <td>8.5</td>\n",
       "      <td>Thaya</td>\n",
       "      <td>School</td>\n",
       "      <td>Teacher</td>\n",
       "      <td>100000</td>\n",
       "      <td>5</td>\n",
       "      <td>2</td>\n",
       "    </tr>\n",
       "  </tbody>\n",
       "</table>\n",
       "</div>"
      ],
      "text/plain": [
       "    ID          Name    Company  Position   Salary   Experience   Awards\n",
       "0  0.1  Sooriyakumar        NaN   Student        0            0        0\n",
       "1  1.2        Thamil   Hospital    Doctor   500000            5       10\n",
       "2  5.5        Amanda  TakenMind        HR   200000            3        5\n",
       "3  6.2        Shelly     Heroku        DS    10000           10        1\n",
       "4  8.5         Thaya     School   Teacher   100000            5        2"
      ]
     },
     "execution_count": 18,
     "metadata": {},
     "output_type": "execute_result"
    }
   ],
   "source": [
    "csvFile2 # We can define the delimiter in read_table function in the pandas library"
   ]
  },
  {
   "cell_type": "code",
   "execution_count": 19,
   "id": "b562f4ee",
   "metadata": {},
   "outputs": [],
   "source": [
    "csvFile3 = pd.read_csv(\"File Operations.csv\", header=None)"
   ]
  },
  {
   "cell_type": "code",
   "execution_count": 23,
   "id": "7d0858f9",
   "metadata": {},
   "outputs": [
    {
     "data": {
      "text/plain": [
       "pandas.core.frame.DataFrame"
      ]
     },
     "execution_count": 23,
     "metadata": {},
     "output_type": "execute_result"
    }
   ],
   "source": [
    "type(csvFile3)"
   ]
  },
  {
   "cell_type": "code",
   "execution_count": 24,
   "id": "6be4a92f",
   "metadata": {},
   "outputs": [
    {
     "data": {
      "text/html": [
       "<div>\n",
       "<style scoped>\n",
       "    .dataframe tbody tr th:only-of-type {\n",
       "        vertical-align: middle;\n",
       "    }\n",
       "\n",
       "    .dataframe tbody tr th {\n",
       "        vertical-align: top;\n",
       "    }\n",
       "\n",
       "    .dataframe thead th {\n",
       "        text-align: right;\n",
       "    }\n",
       "</style>\n",
       "<table border=\"1\" class=\"dataframe\">\n",
       "  <thead>\n",
       "    <tr style=\"text-align: right;\">\n",
       "      <th></th>\n",
       "      <th>0</th>\n",
       "      <th>1</th>\n",
       "      <th>2</th>\n",
       "      <th>3</th>\n",
       "      <th>4</th>\n",
       "      <th>5</th>\n",
       "      <th>6</th>\n",
       "    </tr>\n",
       "  </thead>\n",
       "  <tbody>\n",
       "    <tr>\n",
       "      <th>0</th>\n",
       "      <td>ID</td>\n",
       "      <td>Name</td>\n",
       "      <td>Company</td>\n",
       "      <td>Position</td>\n",
       "      <td>Salary</td>\n",
       "      <td>Experience</td>\n",
       "      <td>Awards</td>\n",
       "    </tr>\n",
       "    <tr>\n",
       "      <th>1</th>\n",
       "      <td>0.1</td>\n",
       "      <td>Sooriyakumar</td>\n",
       "      <td>NaN</td>\n",
       "      <td>Student</td>\n",
       "      <td>0</td>\n",
       "      <td>0</td>\n",
       "      <td>0</td>\n",
       "    </tr>\n",
       "    <tr>\n",
       "      <th>2</th>\n",
       "      <td>1.2</td>\n",
       "      <td>Thamil</td>\n",
       "      <td>Hospital</td>\n",
       "      <td>Doctor</td>\n",
       "      <td>500000</td>\n",
       "      <td>5</td>\n",
       "      <td>10</td>\n",
       "    </tr>\n",
       "    <tr>\n",
       "      <th>3</th>\n",
       "      <td>5.5</td>\n",
       "      <td>Amanda</td>\n",
       "      <td>TakenMind</td>\n",
       "      <td>HR</td>\n",
       "      <td>200000</td>\n",
       "      <td>3</td>\n",
       "      <td>5</td>\n",
       "    </tr>\n",
       "    <tr>\n",
       "      <th>4</th>\n",
       "      <td>6.2</td>\n",
       "      <td>Shelly</td>\n",
       "      <td>Heroku</td>\n",
       "      <td>DS</td>\n",
       "      <td>10000</td>\n",
       "      <td>10</td>\n",
       "      <td>1</td>\n",
       "    </tr>\n",
       "    <tr>\n",
       "      <th>5</th>\n",
       "      <td>8.5</td>\n",
       "      <td>Thaya</td>\n",
       "      <td>School</td>\n",
       "      <td>Teacher</td>\n",
       "      <td>100000</td>\n",
       "      <td>5</td>\n",
       "      <td>2</td>\n",
       "    </tr>\n",
       "  </tbody>\n",
       "</table>\n",
       "</div>"
      ],
      "text/plain": [
       "     0             1          2          3        4            5        6\n",
       "0   ID          Name    Company   Position   Salary   Experience   Awards\n",
       "1  0.1  Sooriyakumar        NaN    Student        0            0        0\n",
       "2  1.2        Thamil   Hospital     Doctor   500000            5       10\n",
       "3  5.5        Amanda  TakenMind         HR   200000            3        5\n",
       "4  6.2        Shelly     Heroku         DS    10000           10        1\n",
       "5  8.5         Thaya     School    Teacher   100000            5        2"
      ]
     },
     "execution_count": 24,
     "metadata": {},
     "output_type": "execute_result"
    }
   ],
   "source": [
    "csvFile3"
   ]
  },
  {
   "cell_type": "code",
   "execution_count": 28,
   "id": "4ab80f17",
   "metadata": {},
   "outputs": [],
   "source": [
    "csvFile3.to_csv('File Operations Output.csv', sep='*')"
   ]
  },
  {
   "cell_type": "markdown",
   "id": "345a2449",
   "metadata": {},
   "source": [
    "     "
   ]
  },
  {
   "cell_type": "markdown",
   "id": "ef3653a2",
   "metadata": {},
   "source": [
    "   "
   ]
  },
  {
   "cell_type": "markdown",
   "id": "a8df68ab",
   "metadata": {},
   "source": [
    "   "
   ]
  },
  {
   "cell_type": "markdown",
   "id": "88ef61dd",
   "metadata": {},
   "source": [
    "### 2. Handling Excel Files "
   ]
  },
  {
   "cell_type": "code",
   "execution_count": 30,
   "id": "b2966c43",
   "metadata": {},
   "outputs": [
    {
     "name": "stdout",
     "output_type": "stream",
     "text": [
      "Requirement already satisfied: xlrd in g:\\softwares\\anaconda\\lib\\site-packages (2.0.1)\n",
      "Requirement already satisfied: openpyxl in g:\\softwares\\anaconda\\lib\\site-packages (3.0.9)\n",
      "Requirement already satisfied: et-xmlfile in g:\\softwares\\anaconda\\lib\\site-packages (from openpyxl) (1.1.0)\n"
     ]
    }
   ],
   "source": [
    "!pip install xlrd\n",
    "!pip install openpyxl"
   ]
  },
  {
   "cell_type": "code",
   "execution_count": 58,
   "id": "36aeeb78",
   "metadata": {},
   "outputs": [
    {
     "data": {
      "text/html": [
       "<div>\n",
       "<style scoped>\n",
       "    .dataframe tbody tr th:only-of-type {\n",
       "        vertical-align: middle;\n",
       "    }\n",
       "\n",
       "    .dataframe tbody tr th {\n",
       "        vertical-align: top;\n",
       "    }\n",
       "\n",
       "    .dataframe thead th {\n",
       "        text-align: right;\n",
       "    }\n",
       "</style>\n",
       "<table border=\"1\" class=\"dataframe\">\n",
       "  <thead>\n",
       "    <tr style=\"text-align: right;\">\n",
       "      <th></th>\n",
       "      <th>ID</th>\n",
       "      <th>Name</th>\n",
       "      <th>Company</th>\n",
       "      <th>Position</th>\n",
       "    </tr>\n",
       "  </thead>\n",
       "  <tbody>\n",
       "    <tr>\n",
       "      <th>0</th>\n",
       "      <td>0.1</td>\n",
       "      <td>Sooriyakumar</td>\n",
       "      <td>Nil</td>\n",
       "      <td>Student</td>\n",
       "    </tr>\n",
       "    <tr>\n",
       "      <th>1</th>\n",
       "      <td>1.2</td>\n",
       "      <td>Thamil</td>\n",
       "      <td>Hospital</td>\n",
       "      <td>Doctor</td>\n",
       "    </tr>\n",
       "    <tr>\n",
       "      <th>2</th>\n",
       "      <td>5.5</td>\n",
       "      <td>Amanda</td>\n",
       "      <td>TakenMind</td>\n",
       "      <td>HR</td>\n",
       "    </tr>\n",
       "  </tbody>\n",
       "</table>\n",
       "</div>"
      ],
      "text/plain": [
       "    ID          Name    Company Position\n",
       "0  0.1  Sooriyakumar        Nil  Student\n",
       "1  1.2        Thamil   Hospital   Doctor\n",
       "2  5.5        Amanda  TakenMind       HR"
      ]
     },
     "execution_count": 58,
     "metadata": {},
     "output_type": "execute_result"
    }
   ],
   "source": [
    "pd.read_excel(\"File Operations.xlsx\")"
   ]
  },
  {
   "cell_type": "code",
   "execution_count": 50,
   "id": "fda6db95",
   "metadata": {},
   "outputs": [],
   "source": [
    "excelFile1 = pd.ExcelFile(\"File Operations.xlsx\")"
   ]
  },
  {
   "cell_type": "code",
   "execution_count": 51,
   "id": "32a9aa70",
   "metadata": {
    "scrolled": false
   },
   "outputs": [
    {
     "data": {
      "text/plain": [
       "<pandas.io.excel._base.ExcelFile at 0x214bd64dc10>"
      ]
     },
     "execution_count": 51,
     "metadata": {},
     "output_type": "execute_result"
    }
   ],
   "source": [
    "excelFile1"
   ]
  },
  {
   "cell_type": "code",
   "execution_count": 56,
   "id": "6551a5a8",
   "metadata": {},
   "outputs": [
    {
     "data": {
      "text/html": [
       "<div>\n",
       "<style scoped>\n",
       "    .dataframe tbody tr th:only-of-type {\n",
       "        vertical-align: middle;\n",
       "    }\n",
       "\n",
       "    .dataframe tbody tr th {\n",
       "        vertical-align: top;\n",
       "    }\n",
       "\n",
       "    .dataframe thead th {\n",
       "        text-align: right;\n",
       "    }\n",
       "</style>\n",
       "<table border=\"1\" class=\"dataframe\">\n",
       "  <thead>\n",
       "    <tr style=\"text-align: right;\">\n",
       "      <th></th>\n",
       "      <th>ID</th>\n",
       "      <th>Name</th>\n",
       "      <th>Company</th>\n",
       "      <th>Position</th>\n",
       "    </tr>\n",
       "  </thead>\n",
       "  <tbody>\n",
       "    <tr>\n",
       "      <th>0</th>\n",
       "      <td>0.1</td>\n",
       "      <td>Sooriyakumar</td>\n",
       "      <td>Nil</td>\n",
       "      <td>Student</td>\n",
       "    </tr>\n",
       "    <tr>\n",
       "      <th>1</th>\n",
       "      <td>1.2</td>\n",
       "      <td>Thamil</td>\n",
       "      <td>Hospital</td>\n",
       "      <td>Doctor</td>\n",
       "    </tr>\n",
       "    <tr>\n",
       "      <th>2</th>\n",
       "      <td>5.5</td>\n",
       "      <td>Amanda</td>\n",
       "      <td>TakenMind</td>\n",
       "      <td>HR</td>\n",
       "    </tr>\n",
       "  </tbody>\n",
       "</table>\n",
       "</div>"
      ],
      "text/plain": [
       "    ID          Name    Company Position\n",
       "0  0.1  Sooriyakumar        Nil  Student\n",
       "1  1.2        Thamil   Hospital   Doctor\n",
       "2  5.5        Amanda  TakenMind       HR"
      ]
     },
     "execution_count": 56,
     "metadata": {},
     "output_type": "execute_result"
    }
   ],
   "source": [
    "excelFile1.parse('sheetNo1')"
   ]
  },
  {
   "cell_type": "code",
   "execution_count": 57,
   "id": "f486d70b",
   "metadata": {},
   "outputs": [
    {
     "data": {
      "text/html": [
       "<div>\n",
       "<style scoped>\n",
       "    .dataframe tbody tr th:only-of-type {\n",
       "        vertical-align: middle;\n",
       "    }\n",
       "\n",
       "    .dataframe tbody tr th {\n",
       "        vertical-align: top;\n",
       "    }\n",
       "\n",
       "    .dataframe thead th {\n",
       "        text-align: right;\n",
       "    }\n",
       "</style>\n",
       "<table border=\"1\" class=\"dataframe\">\n",
       "  <thead>\n",
       "    <tr style=\"text-align: right;\">\n",
       "      <th></th>\n",
       "      <th>ID</th>\n",
       "      <th>Name</th>\n",
       "      <th>Experience</th>\n",
       "      <th>Awards</th>\n",
       "    </tr>\n",
       "  </thead>\n",
       "  <tbody>\n",
       "    <tr>\n",
       "      <th>0</th>\n",
       "      <td>6.2</td>\n",
       "      <td>Shelly</td>\n",
       "      <td>10</td>\n",
       "      <td>1</td>\n",
       "    </tr>\n",
       "    <tr>\n",
       "      <th>1</th>\n",
       "      <td>8.5</td>\n",
       "      <td>Thaya</td>\n",
       "      <td>5</td>\n",
       "      <td>2</td>\n",
       "    </tr>\n",
       "  </tbody>\n",
       "</table>\n",
       "</div>"
      ],
      "text/plain": [
       "    ID    Name  Experience  Awards\n",
       "0  6.2  Shelly          10       1\n",
       "1  8.5   Thaya           5       2"
      ]
     },
     "execution_count": 57,
     "metadata": {},
     "output_type": "execute_result"
    }
   ],
   "source": [
    "excelFile1.parse('Sheet2')"
   ]
  }
 ],
 "metadata": {
  "kernelspec": {
   "display_name": "Python 3 (ipykernel)",
   "language": "python",
   "name": "python3"
  },
  "language_info": {
   "codemirror_mode": {
    "name": "ipython",
    "version": 3
   },
   "file_extension": ".py",
   "mimetype": "text/x-python",
   "name": "python",
   "nbconvert_exporter": "python",
   "pygments_lexer": "ipython3",
   "version": "3.9.7"
  }
 },
 "nbformat": 4,
 "nbformat_minor": 5
}
